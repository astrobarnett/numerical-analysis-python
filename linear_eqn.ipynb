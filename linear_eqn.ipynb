{
 "cells": [
  {
   "cell_type": "markdown",
   "id": "bf9ad9c5",
   "metadata": {},
   "source": [
    "# solution of linear equations"
   ]
  },
  {
   "cell_type": "code",
   "execution_count": 2,
   "id": "1d3fe200",
   "metadata": {},
   "outputs": [
    {
     "name": "stdout",
     "output_type": "stream",
     "text": [
      "Select the method (1 - Gauss elim.; 2 - Gauss-Seidel): 2\n",
      "[[2.99988708]\n",
      " [1.66656148]\n",
      " [3.33322815]\n",
      " [1.99988708]]\n"
     ]
    }
   ],
   "source": [
    "#!/usr/bin/env python3\n",
    "# -*- coding: utf-8 -*-\n",
    "\"\"\"\n",
    "Created on Wed Dec 25 15:11:48 2019\n",
    "\n",
    "@author: astro\n",
    "\"\"\"\n",
    "import numpy as np\n",
    "\n",
    "a = np.array([[4., -1., -1., -1.], [-1., 3., 0., -1.], [-1., 0., 3., -1.], [-1., -1., -1., 4.]])\n",
    "r = np.array([[1.], [0.], [1.], [0.]]) * 5\n",
    "\n",
    "x = np.zeros((len(a), 1), float) #transform a into an array x\n",
    "z = np.zeros((len(a), 1), float) #transform b into an array z\n",
    "diff= 100.\n",
    "\n",
    "method = int(input('Select the method (1 - Gauss elim.; 2 - Gauss-Seidel): '))\n",
    "\n",
    "if(method==1):\n",
    "    for j in range(len(a)): #for loop for array a\n",
    "        for i in range(len(a[0])):\n",
    "            if(i==j): # condition for diagonal element\n",
    "                r[i]=r[i]/a[i][j] #divide a row by its diagonal element to obtain Aij=1\n",
    "                a[i]=a[i]/a[i][j] #divide a row by its diagonal element to obtain Aij=1\n",
    "            if(i>j):\n",
    "                r[i]=r[i]-((a[i][j]/a[j][j])*(r[j])) \n",
    "                a[i]=a[i]-((a[i][j]/a[j][j])*(a[j])) \n",
    "    \n",
    "    v = np.zeros([len(a),1],float)   \n",
    "    v[3] = r[3]\n",
    "    v[2] = r[2]-(v[3]*(a[2][3]))\n",
    "    v[1] = r[1]-(v[3]*(a[1][3]))-(v[2]*(a[1][2]))\n",
    "    v[0] = r[0]-(v[3]*(a[0][3]))-(v[2]*(a[0][2]))-(v[1]*(a[0][1]))\n",
    "    print(v)\n",
    " \n",
    "if(method==2):        \n",
    "    while(diff>1e-4):\n",
    "        for i in range(len(r)): #for loop in r \n",
    "            c = 0.0 # initial value for the diagonal term\n",
    "            for j in range(len(r)): #for loop in r \n",
    "                if (j != i): #if col(j) not equal to row(i)\n",
    "                     c += a[i][j]*x[j]  #Extract the diagonal terms from the sum      \n",
    "            z[i] = (r[i]-c)/a[i][i]  #Reshuffle so that we have only xi on the left side \n",
    "        diff=np.linalg.norm(z-x)\n",
    "        x=np.copy(z) # numpy arrays \n",
    "    \n",
    "    print(x)    \n"
   ]
  },
  {
   "cell_type": "code",
   "execution_count": null,
   "id": "8ae8c93f",
   "metadata": {},
   "outputs": [],
   "source": []
  }
 ],
 "metadata": {
  "kernelspec": {
   "display_name": "Python 3 (ipykernel)",
   "language": "python",
   "name": "python3"
  },
  "language_info": {
   "codemirror_mode": {
    "name": "ipython",
    "version": 3
   },
   "file_extension": ".py",
   "mimetype": "text/x-python",
   "name": "python",
   "nbconvert_exporter": "python",
   "pygments_lexer": "ipython3",
   "version": "3.9.13"
  }
 },
 "nbformat": 4,
 "nbformat_minor": 5
}
