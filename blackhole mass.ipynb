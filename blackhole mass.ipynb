{
 "cells": [
  {
   "cell_type": "code",
   "execution_count": 2,
   "id": "e207b245",
   "metadata": {},
   "outputs": [
    {
     "name": "stdout",
     "output_type": "stream",
     "text": [
      "Black hole mass ≈ 3.544e+37 kg\n",
      "Black hole mass ≈ 1.78e+07 solar masses\n"
     ]
    }
   ],
   "source": [
    "import numpy as np\n",
    "\n",
    "# Constants\n",
    "G = 6.674e-11  # gravitational constant in m^3 kg^-1 s^-2\n",
    "Msun = 1.989e30  # solar mass in kg\n",
    "\n",
    "def blackhole_mass(velocity_km_s, radius_ly):\n",
    "    \"\"\"\n",
    "    Estimate black hole mass using orbital velocity and radius.\n",
    "    \n",
    "    velocity_km_s : orbital velocity in km/s\n",
    "    radius_ly : orbital radius in light years\n",
    "    \"\"\"\n",
    "    # Convert inputs\n",
    "    v = velocity_km_s * 1000          # km/s -> m/s\n",
    "    R = radius_ly * 9.461e15          # 1 ly = 9.461e15 m\n",
    "    \n",
    "    # Mass in kg\n",
    "    M = (R * v**2) / G\n",
    "    \n",
    "    # Convert to solar masses\n",
    "    M_solar = M / Msun\n",
    "    return M, M_solar\n",
    "\n",
    "# Example: star orbiting Sagittarius A* (Milky Way's SMBH)\n",
    "velocity = 5000   # km/s\n",
    "radius = 0.01     # light years\n",
    "\n",
    "M_kg, M_sun = blackhole_mass(velocity, radius)\n",
    "\n",
    "print(f\"Black hole mass ≈ {M_kg:.3e} kg\")\n",
    "print(f\"Black hole mass ≈ {M_sun:.2e} solar masses\")\n"
   ]
  },
  {
   "cell_type": "code",
   "execution_count": 3,
   "id": "7ad45208",
   "metadata": {},
   "outputs": [
    {
     "ename": "SyntaxError",
     "evalue": "invalid syntax (619062784.py, line 1)",
     "output_type": "error",
     "traceback": [
      "\u001b[0;36m  File \u001b[0;32m\"/tmp/ipykernel_4891/619062784.py\"\u001b[0;36m, line \u001b[0;32m1\u001b[0m\n\u001b[0;31m    The balck hole mass vdkjvjdkv\u001b[0m\n\u001b[0m        ^\u001b[0m\n\u001b[0;31mSyntaxError\u001b[0m\u001b[0;31m:\u001b[0m invalid syntax\n"
     ]
    }
   ],
   "source": [
    "The balck ho\n",
    "vnvfkvkmvnvv"
   ]
  },
  {
   "cell_type": "code",
   "execution_count": null,
   "id": "f49ba866",
   "metadata": {},
   "outputs": [],
   "source": []
  }
 ],
 "metadata": {
  "kernelspec": {
   "display_name": "Python 3 (ipykernel)",
   "language": "python",
   "name": "python3"
  },
  "language_info": {
   "codemirror_mode": {
    "name": "ipython",
    "version": 3
   },
   "file_extension": ".py",
   "mimetype": "text/x-python",
   "name": "python",
   "nbconvert_exporter": "python",
   "pygments_lexer": "ipython3",
   "version": "3.9.13"
  }
 },
 "nbformat": 4,
 "nbformat_minor": 5
}
