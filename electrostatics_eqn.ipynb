{
 "cells": [
  {
   "cell_type": "markdown",
   "id": "a52d605e",
   "metadata": {},
   "source": [
    "# electrostatics problem"
   ]
  },
  {
   "cell_type": "code",
   "execution_count": 1,
   "id": "3f24d76d",
   "metadata": {},
   "outputs": [
    {
     "name": "stdout",
     "output_type": "stream",
     "text": [
      "You reach the required tolerance in  3013 iterations\n"
     ]
    },
    {
     "data": {
      "image/png": "[encoded data removed]",
      "text/plain": [
       "<Figure size 640x480 with 1 Axes>"
      ]
     },
     "metadata": {},
     "output_type": "display_data"
    },
    {
     "data": {
      "text/plain": [
       "' this means that BOTH lists and numpy arrays (and in general objects in python) are stored by reference: you do not assign the value of phi to phiold, but a pointer to the object that phi is pointing to.'"
      ]
     },
     "execution_count": 1,
     "metadata": {},
     "output_type": "execute_result"
    }
   ],
   "source": [
    "#!/usr/bin/env python3\n",
    "# -*- coding: utf-8 -*-\n",
    "\"\"\"\n",
    "Created on Wed Jan 22 17:11:58 2020\n",
    "\n",
    "@author: astro\n",
    "\"\"\"\n",
    "import math as mt\n",
    "import numpy as np\n",
    "import matplotlib.pyplot as plt\n",
    "import matplotlib.lines as line\n",
    "\n",
    "#empty 2D box with conducting walls\n",
    "tol=1e-3 #tolerance \n",
    "M=int(100) # vlaue of M \n",
    "\n",
    "phi=np.zeros([M+1,M+1],float) #new iteration of the matrix\n",
    "\n",
    "#boundary conditions:\n",
    "V=1.0 #V=1Volt in the first row of the box(matrix)\n",
    "phi[0,:]= V #first row, all columns\n",
    "phi[M,:]=phi[1:M,0]=phi[1:M,M]=0. #V=0Volt along the other 3 walls\n",
    "diff=100. \n",
    "phiold=np.empty([M+1,M+1],float) #old iteration of the matrix\n",
    "\"\"\"\n",
    "where phi and phiold are the new and the old iteration of the matrix (this\n",
    "treats the two matrices as two vectors and calculates the norm of their\n",
    "difference.\n",
    "\"\"\"\n",
    "\n",
    "#Gauss-Seidel\n",
    "iteration=0 \n",
    "while(diff>tol):\n",
    "    phiold=np.copy(phi)  #explaination see below\n",
    "    for i in range(M+1):   #i is the index of row\n",
    "        for j in range(M+1):  #j is the index of columns\n",
    "            if(i==0 or i==M or j==0 or j==M):\n",
    "                phi[i,j]=phi[i,j]+0\n",
    "            else:\n",
    "                phi[i,j]=(phi[i+1,j]+phi[i-1,j]+phi[i,j+1]+phi[i,j-1])/4\n",
    "\n",
    "    diff=np.linalg.norm(phi-phiold) #gauss-seidel then I recompute using phi[i,j] to update new value then swap to keep new value if toler is meet \n",
    "    iteration+=1\n",
    "  \n",
    " \n",
    "print('You reach the required tolerance in ',iteration, 'iterations')\n",
    " \n",
    "\n",
    "#density plot\n",
    "plt.imshow(phi) #phi is the final matrix\n",
    "plt.gray()\n",
    "plt.show()\n",
    "\n",
    "\n",
    "\n",
    "\"\"\" this means that BOTH lists and numpy arrays (and in general objects in python) are stored by reference: you do not assign the value of phi to phiold, but a pointer to the object that phi is pointing to.\"\"\"\n",
    "\n",
    "\n",
    "\n"
   ]
  },
  {
   "cell_type": "code",
   "execution_count": null,
   "id": "97465d93",
   "metadata": {},
   "outputs": [],
   "source": []
  }
 ],
 "metadata": {
  "kernelspec": {
   "display_name": "Python 3 (ipykernel)",
   "language": "python",
   "name": "python3"
  },
  "language_info": {
   "codemirror_mode": {
    "name": "ipython",
    "version": 3
   },
   "file_extension": ".py",
   "mimetype": "text/x-python",
   "name": "python",
   "nbconvert_exporter": "python",
   "pygments_lexer": "ipython3",
   "version": "3.9.13"
  }
 },
 "nbformat": 4,
 "nbformat_minor": 5
}
