{
 "cells": [
  {
   "cell_type": "markdown",
   "id": "e1dfc920",
   "metadata": {},
   "source": [
    "# matrix"
   ]
  },
  {
   "cell_type": "code",
   "execution_count": 1,
   "id": "58650b8d",
   "metadata": {},
   "outputs": [
    {
     "name": "stdout",
     "output_type": "stream",
     "text": [
      "[[ 2.]\n",
      " [-1.]\n",
      " [-2.]\n",
      " [ 1.]]\n"
     ]
    }
   ],
   "source": [
    "#!/usr/bin/env python3\n",
    "# -*- coding: utf-8 -*-\n",
    "\"\"\"\n",
    "Created on Sun Dec 22 16:11:58 2019\n",
    "\n",
    "@author: astro\n",
    "\"\"\"\n",
    "import numpy as np\n",
    "\n",
    "a = np.array([[2., 1., 4., 1.], [3., 4., -1., -1.], [1., -4., 1., 5.], [2., -2., 1., 3.]])\n",
    "r = np.array([[-4.], [3.], [9.], [7.]])\n",
    "\n",
    "for j in range(len(a)): #for loop for array a \n",
    "    for i in range(len(a[0])):\n",
    "        if(i==j): # condition for diagonal element\n",
    "            r[i]=r[i]/a[i][j] #divide a row by its diagonal element to obtain Aij=1\n",
    "            a[i]=a[i]/a[i][j] #divide a row by its diagonal element to obtain Aij=1\n",
    "        if(i>j):\n",
    "            r[i]=r[i]-((a[i][j]/a[j][j])*(r[j]))\n",
    "            a[i]=a[i]-((a[i][j]/a[j][j])*(a[j]))\n",
    "\n",
    "v = np.zeros([len(a),1],float) #arrays \n",
    "#Ax=b to solve by backsubstitution,    \n",
    "v[3] = r[3] # b3=z\n",
    "v[2] = r[2]-(v[3]*(a[2][3])) # b2=y+ A23*z\n",
    "v[1] = r[1]-(v[3]*(a[1][3]))-(v[2]*(a[1][2])) #b1=x + A12*y + A13*z  \n",
    "v[0] = r[0]-(v[3]*(a[0][3]))-(v[2]*(a[0][2]))-(v[1]*(a[0][1])) #b0=w + A01*x + A02*y + A03*z \n",
    "\n",
    "print(v)\n"
   ]
  },
  {
   "cell_type": "code",
   "execution_count": null,
   "id": "8b5796ff",
   "metadata": {},
   "outputs": [],
   "source": []
  }
 ],
 "metadata": {
  "kernelspec": {
   "display_name": "Python 3 (ipykernel)",
   "language": "python",
   "name": "python3"
  },
  "language_info": {
   "codemirror_mode": {
    "name": "ipython",
    "version": 3
   },
   "file_extension": ".py",
   "mimetype": "text/x-python",
   "name": "python",
   "nbconvert_exporter": "python",
   "pygments_lexer": "ipython3",
   "version": "3.9.13"
  }
 },
 "nbformat": 4,
 "nbformat_minor": 5
}
