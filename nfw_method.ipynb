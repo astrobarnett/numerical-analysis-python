{
 "cells": [
  {
   "cell_type": "markdown",
   "id": "eaf8eaa7",
   "metadata": {},
   "source": [
    "# Navarro-Frenk-White (NFW) DDF is commonly used to describe simple spherical dark matter haloes (after Navarro et al. 1996)"
   ]
  },
  {
   "cell_type": "code",
   "execution_count": 2,
   "id": "c1cf5cd3",
   "metadata": {},
   "outputs": [
    {
     "name": "stdout",
     "output_type": "stream",
     "text": [
      "Choose the Density Distribution Function (1 - SIS; 2 - NFW): 2\n",
      "4555323950509.436 Solar masses\n"
     ]
    }
   ],
   "source": [
    "#!/usr/bin/env python3\n",
    "# -*- coding: utf-8 -*-\n",
    "\"\"\"\n",
    "Created on Wed Jan 15 17:11:58 2020\n",
    "\n",
    "@author: astro\n",
    "\"\"\"\n",
    "import math\n",
    "\n",
    "N = int(1e+5)  #number of steps\n",
    "a = 0. # initial limit of integration\n",
    "g = 6.67408e-11\n",
    "sigma = 1e4 #m/s\n",
    "fakh = 0.\n",
    "DDF = int(input(\"Choose the Density Distribution Function (1 - SIS; 2 - NFW): \"))\n",
    "\n",
    "if(DDF==1):   \n",
    "    b = 3.08567758130573e17 # final limit of integration\n",
    "    h = (b-a)/N # size in the X axis for each trapezoid \n",
    "    roa = float((sigma**2.)/(2.*math.pi*g)) # eqn 103 exercise\n",
    "    rob = float((sigma**2.)/(2.*math.pi*g)) # eqn 103 exercise\n",
    "    fa = float(4.*math.pi*roa) #calculates function for initial limit a\n",
    "    fb = float(4.*math.pi*rob)#calculates function for final limit b\n",
    "    \n",
    "    for k in range(1, N-1):\n",
    "        fakh+=float(4.*math.pi*roa)\n",
    "        # calculates sum of function for (a+k*h), where k goes from 1 to N-1 \n",
    "    I = float(h*((0.5*fa)+(0.5*fb)+(fakh)))\n",
    "    I=I/(1.989e30) #divided by solar mass\n",
    "    \n",
    "if(DDF==2):    \n",
    "    ro0 = 1e8 #normalization (mass/vol) solar mass\n",
    "    rs = 10. #scale radius \n",
    "    b = 100.*rs #r-max\n",
    "    h = (b-a)/N\n",
    "    rob=float((ro0)/((b/rs)*((1+(b/rs))**2))) # equation 104 of exercie \n",
    "    fb = float((4*math.pi*rob*(b**2))) # put above qn in eqn 102\n",
    "                    \n",
    "    for k in range(1, N-1):\n",
    "        c = (a+k*h)\n",
    "        roakh=float((ro0)/((c/rs)*((1+(c/rs))**2))) \n",
    "        fakh+=float((4*math.pi*roakh*(c**2)))\n",
    "            \n",
    "    I = float(h*((0.5*fb)+fakh))\n",
    "\n",
    "print(I, 'Solar masses')\n"
   ]
  },
  {
   "cell_type": "code",
   "execution_count": null,
   "id": "9c2b6517",
   "metadata": {},
   "outputs": [],
   "source": []
  }
 ],
 "metadata": {
  "kernelspec": {
   "display_name": "Python 3 (ipykernel)",
   "language": "python",
   "name": "python3"
  },
  "language_info": {
   "codemirror_mode": {
    "name": "ipython",
    "version": 3
   },
   "file_extension": ".py",
   "mimetype": "text/x-python",
   "name": "python",
   "nbconvert_exporter": "python",
   "pygments_lexer": "ipython3",
   "version": "3.9.13"
  }
 },
 "nbformat": 4,
 "nbformat_minor": 5
}
