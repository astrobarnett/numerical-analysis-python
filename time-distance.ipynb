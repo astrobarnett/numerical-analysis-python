{
 "cells": [
  {
   "cell_type": "markdown",
   "id": "2355e85a",
   "metadata": {},
   "source": [
    "# To calculate the distance covered in a (user provided) time t by a ball falling from a tower of (user provided) height h. Furthermore, calculate at what time t_2 the ball reaches the ground \n"
   ]
  },
  {
   "cell_type": "code",
   "execution_count": 5,
   "id": "3c246a02",
   "metadata": {},
   "outputs": [
    {
     "name": "stdout",
     "output_type": "stream",
     "text": [
      "Enter the time for falling ball t:2\n",
      "Enter the height:2\n",
      "The distance covered is: 19.62\n",
      "The time it took is: 0.638550856814101\n"
     ]
    }
   ],
   "source": [
    "\n",
    "import math \n",
    "g=9.81\n",
    "t=float(input(\"Enter the time for falling ball t:\"))\n",
    "d = 0.5*g*t**2    #eqn of motion s=gt^2/2 \n",
    "h=float(input(\"Enter the height:\"))\n",
    "t2=math.sqrt(2*h/g) #eqn of motion s=ut+0.5*g*t^2 \n",
    "print(\"The distance covered is:\", d)\n",
    "print(\"The time it took is:\", t2)\n"
   ]
  },
  {
   "cell_type": "code",
   "execution_count": null,
   "id": "1af77e56",
   "metadata": {},
   "outputs": [],
   "source": []
  }
 ],
 "metadata": {
  "kernelspec": {
   "display_name": "Python 3 (ipykernel)",
   "language": "python",
   "name": "python3"
  },
  "language_info": {
   "codemirror_mode": {
    "name": "ipython",
    "version": 3
   },
   "file_extension": ".py",
   "mimetype": "text/x-python",
   "name": "python",
   "nbconvert_exporter": "python",
   "pygments_lexer": "ipython3",
   "version": "3.9.13"
  }
 },
 "nbformat": 4,
 "nbformat_minor": 5
}
