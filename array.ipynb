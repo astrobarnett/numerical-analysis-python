{
 "cells": [
  {
   "cell_type": "markdown",
   "id": "4eb9857b",
   "metadata": {},
   "source": [
    "# array"
   ]
  },
  {
   "cell_type": "code",
   "execution_count": 1,
   "id": "6c2634f7",
   "metadata": {},
   "outputs": [
    {
     "name": "stdout",
     "output_type": "stream",
     "text": [
      "[[3.]\n",
      " [1.]\n",
      " [1.]]\n"
     ]
    }
   ],
   "source": [
    "#!/usr/bin/env python3\n",
    "# -*- coding: utf-8 -*-\n",
    "\"\"\"\n",
    "Created on Mon Dec 23 15:11:40 2019\n",
    "\n",
    "@author: astro\n",
    "\"\"\"\n",
    "import numpy as np\n",
    "\n",
    "#Ax=b\n",
    "A = np.array([[4., -1., 1.], [-1., 4., -2.], [1., -2., 4.]]) #array a\n",
    "b = np.array([[12.], [-1.], [5.]]) #array b\n",
    "\n",
    "\n",
    "x = np.zeros((len(A), 1), float) #transform A into an array x \n",
    "z = np.zeros((len(A), 1), float)#transform b into an array z\n",
    "diff= 100.\n",
    "\n",
    "    \n",
    "while(diff>1e-8):\n",
    "    for i in range(len(b)): #for loop in b \n",
    "        c = 0.0  # initial value for the diagonal term\n",
    "        for j in range(len(b)): \n",
    "            if (j != i): #if col(j) not equal to row(i) \n",
    "                 c += A[i][j]*x[j]  # Extract the diagonal terms from the sum  \n",
    "        z[i] = (b[i]-c)/A[i][i] # Reshuffle so that we have only xi on the left side\n",
    "    diff=np.linalg.norm(z-x)\n",
    "    x=np.copy(z) # numpy arrays \n",
    "\n",
    "print(x)    \n"
   ]
  },
  {
   "cell_type": "code",
   "execution_count": null,
   "id": "c8e9fe67",
   "metadata": {},
   "outputs": [],
   "source": []
  }
 ],
 "metadata": {
  "kernelspec": {
   "display_name": "Python 3 (ipykernel)",
   "language": "python",
   "name": "python3"
  },
  "language_info": {
   "codemirror_mode": {
    "name": "ipython",
    "version": 3
   },
   "file_extension": ".py",
   "mimetype": "text/x-python",
   "name": "python",
   "nbconvert_exporter": "python",
   "pygments_lexer": "ipython3",
   "version": "3.9.13"
  }
 },
 "nbformat": 4,
 "nbformat_minor": 5
}
