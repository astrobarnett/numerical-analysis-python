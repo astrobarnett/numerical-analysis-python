{
 "cells": [
  {
   "cell_type": "markdown",
   "id": "a45f5fde",
   "metadata": {},
   "source": [
    "# Density Distribution Function"
   ]
  },
  {
   "cell_type": "code",
   "execution_count": 2,
   "id": "7d9bcd1b",
   "metadata": {},
   "outputs": [
    {
     "name": "stdout",
     "output_type": "stream",
     "text": [
      "Choose the Density Distribution Function (1 - SIS; 2 - NFW): 2\n",
      "[4890725287988.826, 4599267091266.663, 4523146213214.059, 4572459664115.874, 4532536155035.893, 4560574628908.897, 4559062609734.748, 4555333643026.946]\n",
      "Averange integral value:  4599138161661.488 Solar masses\n"
     ]
    }
   ],
   "source": [
    "#!/usr/bin/env python3\n",
    "# -*- coding: utf-8 -*-\n",
    "\"\"\"\n",
    "Created on Wed Jan 22 17:11:58 2020\n",
    "\n",
    "@author: astro\n",
    "\"\"\"\n",
    "import math\n",
    "import random\n",
    "\n",
    "N = [1e3, 5*1e3, 1e4, 5*1e4, 1e5, 5*1e5, 1e6, 5*1e6]\n",
    "I = []\n",
    "Ip = 0.\n",
    "DDF = int(input(\"Choose the Density Distribution Function (1 - SIS; 2 - NFW): \"))\n",
    "\n",
    "if(DDF==1):    \n",
    "    g = 6.67408e-11\n",
    "    sigma = 1e4 #m/s\n",
    "    b = 3.08567758130573e17\n",
    "    ro = float((sigma**2.)/(2.*math.pi*g)) \n",
    "    for v in range(int(len(N))):\n",
    "        for i in range(int(N[v])):            \n",
    "            y = float(4.*math.pi*ro) #constant function, no need for random number\n",
    "            Ip+=y #repeats calculation N times and sums up all results\n",
    "        I.append(((b/N[v])*Ip)/1.989e30) # Integral = Ip * (b-a)/N\n",
    "        Ip = 0.\n",
    "        \n",
    "if(DDF==2):   \n",
    "    ro0 = 1e8 #normalization (mass/vol) solar mass\n",
    "    rs = 10. #scale radius \n",
    "    b = 100.*rs #r-max\n",
    "    for v in range(int(len(N))):\n",
    "        for i in range(int(N[v])):\n",
    "            x = random.random()*b  #produces a uniform random number\n",
    "            ro=float((ro0)/((x/rs)*((1+(x/rs))**2))) # equation 104 of exercie 7.1            \n",
    "            y = float((4*math.pi*ro*(x**2))) #apply it to the function eqn 102 of ex 7.1\n",
    "            Ip+=y  #generates N numbers and sum all of them\n",
    "        I.append((b/N[v])*Ip) # Integral = Ip * (b-a)/N\n",
    "        Ip = 0.\n",
    "       \n",
    "print(I)\n",
    "M=((I[0]+I[1]+I[2]+I[3]+I[4]+I[5]+I[6]+I[7])/8)\n",
    "print('Averange integral value: ', M, 'Solar masses')\n"
   ]
  },
  {
   "cell_type": "code",
   "execution_count": null,
   "id": "4d834b7a",
   "metadata": {},
   "outputs": [],
   "source": []
  },
  {
   "cell_type": "code",
   "execution_count": null,
   "id": "16d51ff3",
   "metadata": {},
   "outputs": [],
   "source": []
  }
 ],
 "metadata": {
  "kernelspec": {
   "display_name": "Python 3 (ipykernel)",
   "language": "python",
   "name": "python3"
  },
  "language_info": {
   "codemirror_mode": {
    "name": "ipython",
    "version": 3
   },
   "file_extension": ".py",
   "mimetype": "text/x-python",
   "name": "python",
   "nbconvert_exporter": "python",
   "pygments_lexer": "ipython3",
   "version": "3.9.13"
  }
 },
 "nbformat": 4,
 "nbformat_minor": 5
}
