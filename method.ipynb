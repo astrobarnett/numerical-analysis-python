{
 "cells": [
  {
   "cell_type": "markdown",
   "id": "b0184cea",
   "metadata": {},
   "source": [
    "## script to implement relaxation method, bisection method and Newton-Rapshon."
   ]
  },
  {
   "cell_type": "code",
   "execution_count": 2,
   "id": "d180e2f9",
   "metadata": {},
   "outputs": [
    {
     "name": "stdout",
     "output_type": "stream",
     "text": [
      "choose a value for mean anomaly between pi or pi/3: pi/3\n",
      "choose a value for eccentricity between 0.1, 0.7 or 0.9: 0.7\n",
      "1.0154676601814572 0.8614082206540875\n",
      "0.8614082203095563 0.3476489186767664\n",
      "0.34764891876370996 1.6906991821650794\n",
      "1.6906991824328088 1.228564401932404\n",
      "1.228564402100396 1.121348603695408\n",
      "1.1213486038608167 1.1161608889313976\n",
      "1.116160889047535 1.116148827987231\n",
      "1.116148828139707 1.116148827922065\n",
      "\n",
      "For mean anomaly equal to 1.0471975511965976 , the eccentricity anomaly E= 1.737494190165911\n"
     ]
    }
   ],
   "source": [
    "#!/usr/bin/env python3\n",
    "# -*- coding: utf-8 -*-\n",
    "\"\"\"\n",
    "Created on Fri Dec 27 15:11:48 2019\n",
    "\n",
    "@author: astro\n",
    "\"\"\"\n",
    "\n",
    "import numpy as np\n",
    "import math as m\n",
    "\n",
    "h=1e-6\n",
    "def f(x):\n",
    "    f=x-F-ecc*np.sin(x)\n",
    "    return(f)\n",
    "\n",
    "        \n",
    "tol=1e-6\n",
    "E=300\n",
    "Eold=2\n",
    "mano=input('choose a value for mean anomaly between pi or pi/3: ')\n",
    "if(mano=='pi'):\n",
    "    F=np.pi\n",
    "if(mano=='pi/3'):\n",
    "    F=np.pi/3\n",
    "\n",
    "ecc=float(input('choose a value for eccentricity between 0.1, 0.7 or 0.9: '))\n",
    "\n",
    "while(abs(Eold-E)>tol): #iteration\n",
    "    \n",
    "    Eold=E\n",
    "    g=(f(E+h/2)-f(E-h/2))/h #central difference\n",
    "    E=E-f(E)/g\n",
    "    \n",
    "    print(g,1-ecc*np.cos(E))\n",
    "    \n",
    "    \n",
    "print('\\nFor mean anomaly equal to',F,', the eccentricity anomaly E=',E)\n"
   ]
  },
  {
   "cell_type": "code",
   "execution_count": 3,
   "id": "80fdb720",
   "metadata": {},
   "outputs": [
    {
     "name": "stdout",
     "output_type": "stream",
     "text": [
      "choose a value for mean anomaly between pi or pi/3: pi\n",
      "choose a value for eccentricity between 0.1, 0.7 or 0.9: 0.9\n",
      "1.0198869517807907 1.1733912313784214\n",
      "1.1733912330669227 1.083725690821702\n",
      "1.083725689632331 1.680933842915586\n",
      "1.6809338432288712 1.8983047018541854\n",
      "1.8983047021109423 1.8999999993989571\n",
      "1.8999999996644992 1.9\n",
      "1.9000000002655406 1.9\n",
      "\n",
      "For mean anomaly equal to 3.141592653589793 , the eccentricity anomaly E= 3.141592653589793\n"
     ]
    }
   ],
   "source": [
    "#!/usr/bin/env python3\n",
    "# -*- coding: utf-8 -*-\n",
    "\"\"\"\n",
    "Created on Fri Dec 27 15:11:48 2019\n",
    "\n",
    "@author: astro\n",
    "\"\"\"\n",
    "\n",
    "import numpy as np\n",
    "import math as m\n",
    "\n",
    "h=1e-6\n",
    "def f(x):\n",
    "    f=x-F-ecc*np.sin(x)\n",
    "    return(f)\n",
    "\n",
    "        \n",
    "tol=1e-6\n",
    "E=300\n",
    "Eold=2\n",
    "mano=input('choose a value for mean anomaly between pi or pi/3: ')\n",
    "if(mano=='pi'):\n",
    "    F=np.pi\n",
    "if(mano=='pi/3'):\n",
    "    F=np.pi/3\n",
    "\n",
    "ecc=float(input('choose a value for eccentricity between 0.1, 0.7 or 0.9: '))\n",
    "\n",
    "while(abs(Eold-E)>tol): #iteration\n",
    "    \n",
    "    Eold=E\n",
    "    g=(f(E+h/2)-f(E-h/2))/h #central difference\n",
    "    E=E-f(E)/g\n",
    "    \n",
    "    print(g,1-ecc*np.cos(E))\n",
    "    \n",
    "    \n",
    "print('\\nFor mean anomaly equal to',F,', the eccentricity anomaly E=',E)\n"
   ]
  },
  {
   "cell_type": "code",
   "execution_count": null,
   "id": "83d4130b",
   "metadata": {},
   "outputs": [],
   "source": []
  }
 ],
 "metadata": {
  "kernelspec": {
   "display_name": "Python 3 (ipykernel)",
   "language": "python",
   "name": "python3"
  },
  "language_info": {
   "codemirror_mode": {
    "name": "ipython",
    "version": 3
   },
   "file_extension": ".py",
   "mimetype": "text/x-python",
   "name": "python",
   "nbconvert_exporter": "python",
   "pygments_lexer": "ipython3",
   "version": "3.9.13"
  }
 },
 "nbformat": 4,
 "nbformat_minor": 5
}
